{
 "cells": [
  {
   "cell_type": "markdown",
   "metadata": {},
   "source": [
    "# Network/Graph Representation Learning tutorial\n",
    "\n",
    "## Preprocess"
   ]
  },
  {
   "cell_type": "code",
   "execution_count": 1,
   "metadata": {
    "_cell_guid": "b1076dfc-b9ad-4769-8c92-a6c4dae69d19",
    "_uuid": "8f2839f25d086af736a60e9eeb907d3b93b6e0e5"
   },
   "outputs": [
    {
     "name": "stderr",
     "output_type": "stream",
     "text": [
      "Using backend: pytorch\n"
     ]
    }
   ],
   "source": [
    "import numpy as np\n",
    "import pandas as pd \n",
    "import networkx as nx\n",
    "import matplotlib.pyplot as plt\n",
    "\n",
    "import json\n",
    "\n",
    "## DGL\n",
    "import dgl\n",
    "import torch\n",
    "import torch.nn as nn\n",
    "import torch.nn.functional as F\n",
    "from progressbar import progressbar"
   ]
  },
  {
   "cell_type": "code",
   "execution_count": 2,
   "metadata": {
    "_cell_guid": "79c7e3d0-c299-4dcb-8224-4455121ee9b0",
    "_uuid": "d629ff2d2480ee46fbb7e2d37f6b5fab8052498a"
   },
   "outputs": [
    {
     "data": {
      "text/html": [
       "<div>\n",
       "<style scoped>\n",
       "    .dataframe tbody tr th:only-of-type {\n",
       "        vertical-align: middle;\n",
       "    }\n",
       "\n",
       "    .dataframe tbody tr th {\n",
       "        vertical-align: top;\n",
       "    }\n",
       "\n",
       "    .dataframe thead th {\n",
       "        text-align: right;\n",
       "    }\n",
       "</style>\n",
       "<table border=\"1\" class=\"dataframe\">\n",
       "  <thead>\n",
       "    <tr style=\"text-align: right;\">\n",
       "      <th></th>\n",
       "      <th>Start</th>\n",
       "      <th>Stop</th>\n",
       "      <th>Line</th>\n",
       "      <th>Color</th>\n",
       "    </tr>\n",
       "  </thead>\n",
       "  <tbody>\n",
       "    <tr>\n",
       "      <th>0</th>\n",
       "      <td>Shady Grove</td>\n",
       "      <td>Rockville</td>\n",
       "      <td>1</td>\n",
       "      <td>red</td>\n",
       "    </tr>\n",
       "    <tr>\n",
       "      <th>1</th>\n",
       "      <td>Rockville</td>\n",
       "      <td>Twinbrook</td>\n",
       "      <td>1</td>\n",
       "      <td>red</td>\n",
       "    </tr>\n",
       "    <tr>\n",
       "      <th>2</th>\n",
       "      <td>Twinbrook</td>\n",
       "      <td>White Flint</td>\n",
       "      <td>1</td>\n",
       "      <td>red</td>\n",
       "    </tr>\n",
       "    <tr>\n",
       "      <th>3</th>\n",
       "      <td>White Flint</td>\n",
       "      <td>Grosvenor-Strathmore</td>\n",
       "      <td>1</td>\n",
       "      <td>red</td>\n",
       "    </tr>\n",
       "    <tr>\n",
       "      <th>4</th>\n",
       "      <td>Grosvenor-Strathmore</td>\n",
       "      <td>Medical Center</td>\n",
       "      <td>1</td>\n",
       "      <td>red</td>\n",
       "    </tr>\n",
       "  </tbody>\n",
       "</table>\n",
       "</div>"
      ],
      "text/plain": [
       "                  Start                  Stop  Line Color\n",
       "0           Shady Grove             Rockville     1   red\n",
       "1             Rockville             Twinbrook     1   red\n",
       "2             Twinbrook           White Flint     1   red\n",
       "3           White Flint  Grosvenor-Strathmore     1   red\n",
       "4  Grosvenor-Strathmore        Medical Center     1   red"
      ]
     },
     "execution_count": 2,
     "metadata": {},
     "output_type": "execute_result"
    }
   ],
   "source": [
    "## Load manually created DC Metro Data\n",
    "df = pd.read_csv('../data/raw/dc_metro.csv', sep=',')\n",
    "df.head()"
   ]
  },
  {
   "cell_type": "code",
   "execution_count": 3,
   "metadata": {
    "scrolled": false
   },
   "outputs": [
    {
     "data": {
      "text/html": [
       "<div>\n",
       "<style scoped>\n",
       "    .dataframe tbody tr th:only-of-type {\n",
       "        vertical-align: middle;\n",
       "    }\n",
       "\n",
       "    .dataframe tbody tr th {\n",
       "        vertical-align: top;\n",
       "    }\n",
       "\n",
       "    .dataframe thead th {\n",
       "        text-align: right;\n",
       "    }\n",
       "</style>\n",
       "<table border=\"1\" class=\"dataframe\">\n",
       "  <thead>\n",
       "    <tr style=\"text-align: right;\">\n",
       "      <th></th>\n",
       "      <th>dc_metro_name</th>\n",
       "      <th>mean_lon</th>\n",
       "      <th>mean_lat</th>\n",
       "    </tr>\n",
       "  </thead>\n",
       "  <tbody>\n",
       "    <tr>\n",
       "      <th>0</th>\n",
       "      <td>Addison Rd</td>\n",
       "      <td>-76.895818</td>\n",
       "      <td>38.886732</td>\n",
       "    </tr>\n",
       "    <tr>\n",
       "      <th>1</th>\n",
       "      <td>Anacostia</td>\n",
       "      <td>-76.995193</td>\n",
       "      <td>38.862145</td>\n",
       "    </tr>\n",
       "    <tr>\n",
       "      <th>2</th>\n",
       "      <td>Archives</td>\n",
       "      <td>-77.022550</td>\n",
       "      <td>38.893951</td>\n",
       "    </tr>\n",
       "    <tr>\n",
       "      <th>3</th>\n",
       "      <td>Arlington Cemetery</td>\n",
       "      <td>-77.063675</td>\n",
       "      <td>38.884388</td>\n",
       "    </tr>\n",
       "    <tr>\n",
       "      <th>4</th>\n",
       "      <td>Ballston-MU</td>\n",
       "      <td>-77.111312</td>\n",
       "      <td>38.881915</td>\n",
       "    </tr>\n",
       "  </tbody>\n",
       "</table>\n",
       "</div>"
      ],
      "text/plain": [
       "        dc_metro_name   mean_lon   mean_lat\n",
       "0          Addison Rd -76.895818  38.886732\n",
       "1           Anacostia -76.995193  38.862145\n",
       "2            Archives -77.022550  38.893951\n",
       "3  Arlington Cemetery -77.063675  38.884388\n",
       "4         Ballston-MU -77.111312  38.881915"
      ]
     },
     "execution_count": 3,
     "metadata": {},
     "output_type": "execute_result"
    }
   ],
   "source": [
    "## Load station geographic coordinates\n",
    "df_gis = pd.read_csv('../data/raw/dc_metro_gis.csv')\n",
    "df_gis.head()"
   ]
  },
  {
   "cell_type": "code",
   "execution_count": 4,
   "metadata": {},
   "outputs": [],
   "source": [
    "## Rescale coordinates to [-1, 1]\n",
    "df_gis['rescale_lon'] = np.interp(df_gis['mean_lon'], (df_gis['mean_lon'].min(), df_gis['mean_lon'].max()), (-1, 1))\n",
    "df_gis['rescale_lat'] = np.interp(df_gis['mean_lat'], (df_gis['mean_lat'].min(), df_gis['mean_lat'].max()), (-1, 1))"
   ]
  },
  {
   "cell_type": "code",
   "execution_count": 5,
   "metadata": {},
   "outputs": [],
   "source": [
    "## Convert DC Metro data to dictionary of station-id/id-station\n",
    "stations = pd.unique(df[['Start', 'Stop']].values.flatten())\n",
    "stations = sorted(stations)\n",
    "station2id = {s:i for i, s in enumerate(stations)}\n",
    "id2station = dict(enumerate(stations))"
   ]
  },
  {
   "cell_type": "code",
   "execution_count": 61,
   "metadata": {},
   "outputs": [],
   "source": [
    "## Create dictionary of id-rescaled geographic coordinate \n",
    "id_pos = {}\n",
    "\n",
    "for key in station2id:\n",
    "    id_pos[station2id[key]] = [df_gis.loc[df_gis['dc_metro_name'] == key]['rescale_lon'],\n",
    "                               df_gis.loc[df_gis['dc_metro_name'] == key]['rescale_lat']]"
   ]
  },
  {
   "cell_type": "code",
   "execution_count": 7,
   "metadata": {},
   "outputs": [],
   "source": [
    "## Create multigraph object\n",
    "G = nx.MultiGraph()"
   ]
  },
  {
   "cell_type": "code",
   "execution_count": 8,
   "metadata": {},
   "outputs": [],
   "source": [
    "## Add stations as nodes to graph object\n",
    "for station_name, id in station2id.items():\n",
    "    G.add_node(id, name=station_name)"
   ]
  },
  {
   "cell_type": "code",
   "execution_count": 9,
   "metadata": {},
   "outputs": [],
   "source": [
    "## Add lines as edges to graph object\n",
    "for i, series in df.iterrows():\n",
    "    u = station2id[series['Start']]\n",
    "    v = station2id[series['Stop']]\n",
    "    line = series['Line']\n",
    "    color = series['Color']\n",
    "    G.add_edge(u, v, line=line, color=color)"
   ]
  },
  {
   "cell_type": "code",
   "execution_count": 10,
   "metadata": {},
   "outputs": [],
   "source": [
    "## Assign graph data to JSON\n",
    "dc_metro_graph = nx.node_link_data(G)"
   ]
  },
  {
   "cell_type": "code",
   "execution_count": 11,
   "metadata": {},
   "outputs": [],
   "source": [
    "## Add geographic coordinates to JSON\n",
    "for i in range(0, len(dc_metro_graph['nodes'])):\n",
    "    dc_metro_graph['nodes'][i]['cx'] = id_pos[i][0].squeeze()\n",
    "    dc_metro_graph['nodes'][i]['cy'] = id_pos[i][1].squeeze()"
   ]
  },
  {
   "cell_type": "code",
   "execution_count": 13,
   "metadata": {},
   "outputs": [],
   "source": [
    "## Export JSON data for D3 visualization\n",
    "with open('../data/processed/dc_metro_graph.json', 'w') as f:\n",
    "    json.dump(dc_metro_graph, f)"
   ]
  },
  {
   "cell_type": "code",
   "execution_count": 46,
   "metadata": {},
   "outputs": [
    {
     "data": {
      "text/plain": [
       "{'Addison Rd': 0,\n",
       " 'Anacostia': 1,\n",
       " 'Archives': 2,\n",
       " 'Arlington Cemetery': 3,\n",
       " 'Ballston-MU': 4,\n",
       " 'Benning Rd': 5,\n",
       " 'Bethesda': 6,\n",
       " 'Braddock Rd': 7,\n",
       " 'Branch Ave': 8,\n",
       " 'Brookland-CUA': 9,\n",
       " 'Capitol Heights': 10,\n",
       " 'Capitol South': 11,\n",
       " 'Cheverly': 12,\n",
       " 'Clarendon': 13,\n",
       " 'College Park-U of Md': 14,\n",
       " 'Columbia Heights': 15,\n",
       " 'Congress Heights': 16,\n",
       " 'Court House': 17,\n",
       " 'Crystal City': 18,\n",
       " 'Deanwood': 19,\n",
       " 'Dunn Loring': 20,\n",
       " 'Dupont Circle': 21,\n",
       " 'East Falls Church': 22,\n",
       " 'Eastern Market': 23,\n",
       " 'Eisenhower Ave': 24,\n",
       " 'Farragut North': 25,\n",
       " 'Farragut West': 26,\n",
       " 'Federal Center SW': 27,\n",
       " 'Federal Triangle': 28,\n",
       " 'Foggy Bottom-GWU': 29,\n",
       " 'Forest Glen': 30,\n",
       " 'Fort Totten': 31,\n",
       " 'Franconia-Springfield': 32,\n",
       " 'Friendship Heights': 33,\n",
       " 'Gallery Place': 34,\n",
       " 'Georgia Ave-Petworth': 35,\n",
       " 'Glenmont': 36,\n",
       " 'Greenbelt': 37,\n",
       " 'Greensboro': 38,\n",
       " 'Grosvenor-Strathmore': 39,\n",
       " 'Huntington': 40,\n",
       " 'Judiciary Square': 41,\n",
       " 'King St-Old Town': 42,\n",
       " 'LEnfant Plaza': 43,\n",
       " 'Landover': 44,\n",
       " 'Largo Town Center': 45,\n",
       " 'McLean': 46,\n",
       " 'McPherson Square': 47,\n",
       " 'Medical Center': 48,\n",
       " 'Metro Center': 49,\n",
       " 'Minnesota Ave': 50,\n",
       " 'Morgan Blvd': 51,\n",
       " 'Mt. Vernon': 52,\n",
       " 'Navy Yard-Ballpark': 53,\n",
       " 'Naylor Rd': 54,\n",
       " 'New Carrollton': 55,\n",
       " 'NoMa-Galllaudet': 56,\n",
       " 'Pentagon': 57,\n",
       " 'Pentagon City': 58,\n",
       " 'Potomac Ave': 59,\n",
       " 'Prince George s Plaza': 60,\n",
       " 'Rhose Island Ave': 61,\n",
       " 'Rockville': 62,\n",
       " 'Ronald Reagan Washington National Airport': 63,\n",
       " 'Rosslyn': 64,\n",
       " 'Shady Grove': 65,\n",
       " 'Shaw-Howard U': 66,\n",
       " 'Silver Spring': 67,\n",
       " 'Smithsonian': 68,\n",
       " 'Southern Ave': 69,\n",
       " 'Spring Hill': 70,\n",
       " 'Stadium-Armory': 71,\n",
       " 'Suitland': 72,\n",
       " 'Takoma': 73,\n",
       " 'Tenleytown-AU': 74,\n",
       " 'Twinbrook': 75,\n",
       " 'Tysons Corner': 76,\n",
       " 'U St': 77,\n",
       " 'Union Station': 78,\n",
       " 'Van Dorn St': 79,\n",
       " 'Van Ness-UDC': 80,\n",
       " 'Vienna': 81,\n",
       " 'Virginia Square-GMU': 82,\n",
       " 'Waterfront': 83,\n",
       " 'West Falls Church': 84,\n",
       " 'West Hyattsville': 85,\n",
       " 'Wheaton': 86,\n",
       " 'White Flint': 87,\n",
       " 'Wiehle-Reston': 88,\n",
       " 'Woodley Park': 89}"
      ]
     },
     "execution_count": 46,
     "metadata": {},
     "output_type": "execute_result"
    }
   ],
   "source": [
    "station2id"
   ]
  },
  {
   "cell_type": "code",
   "execution_count": 68,
   "metadata": {},
   "outputs": [
    {
     "data": {
      "text/plain": [
       "{0: 'Addison Rd',\n",
       " 1: 'Anacostia',\n",
       " 2: 'Archives',\n",
       " 3: 'Arlington Cemetery',\n",
       " 4: 'Ballston-MU',\n",
       " 5: 'Benning Rd',\n",
       " 6: 'Bethesda',\n",
       " 7: 'Braddock Rd',\n",
       " 8: 'Branch Ave',\n",
       " 9: 'Brookland-CUA',\n",
       " 10: 'Capitol Heights',\n",
       " 11: 'Capitol South',\n",
       " 12: 'Cheverly',\n",
       " 13: 'Clarendon',\n",
       " 14: 'College Park-U of Md',\n",
       " 15: 'Columbia Heights',\n",
       " 16: 'Congress Heights',\n",
       " 17: 'Court House',\n",
       " 18: 'Crystal City',\n",
       " 19: 'Deanwood',\n",
       " 20: 'Dunn Loring',\n",
       " 21: 'Dupont Circle',\n",
       " 22: 'East Falls Church',\n",
       " 23: 'Eastern Market',\n",
       " 24: 'Eisenhower Ave',\n",
       " 25: 'Farragut North',\n",
       " 26: 'Farragut West',\n",
       " 27: 'Federal Center SW',\n",
       " 28: 'Federal Triangle',\n",
       " 29: 'Foggy Bottom-GWU',\n",
       " 30: 'Forest Glen',\n",
       " 31: 'Fort Totten',\n",
       " 32: 'Franconia-Springfield',\n",
       " 33: 'Friendship Heights',\n",
       " 34: 'Gallery Place',\n",
       " 35: 'Georgia Ave-Petworth',\n",
       " 36: 'Glenmont',\n",
       " 37: 'Greenbelt',\n",
       " 38: 'Greensboro',\n",
       " 39: 'Grosvenor-Strathmore',\n",
       " 40: 'Huntington',\n",
       " 41: 'Judiciary Square',\n",
       " 42: 'King St-Old Town',\n",
       " 43: 'LEnfant Plaza',\n",
       " 44: 'Landover',\n",
       " 45: 'Largo Town Center',\n",
       " 46: 'McLean',\n",
       " 47: 'McPherson Square',\n",
       " 48: 'Medical Center',\n",
       " 49: 'Metro Center',\n",
       " 50: 'Minnesota Ave',\n",
       " 51: 'Morgan Blvd',\n",
       " 52: 'Mt. Vernon',\n",
       " 53: 'Navy Yard-Ballpark',\n",
       " 54: 'Naylor Rd',\n",
       " 55: 'New Carrollton',\n",
       " 56: 'NoMa-Galllaudet',\n",
       " 57: 'Pentagon',\n",
       " 58: 'Pentagon City',\n",
       " 59: 'Potomac Ave',\n",
       " 60: 'Prince George s Plaza',\n",
       " 61: 'Rhose Island Ave',\n",
       " 62: 'Rockville',\n",
       " 63: 'Ronald Reagan Washington National Airport',\n",
       " 64: 'Rosslyn',\n",
       " 65: 'Shady Grove',\n",
       " 66: 'Shaw-Howard U',\n",
       " 67: 'Silver Spring',\n",
       " 68: 'Smithsonian',\n",
       " 69: 'Southern Ave',\n",
       " 70: 'Spring Hill',\n",
       " 71: 'Stadium-Armory',\n",
       " 72: 'Suitland',\n",
       " 73: 'Takoma',\n",
       " 74: 'Tenleytown-AU',\n",
       " 75: 'Twinbrook',\n",
       " 76: 'Tysons Corner',\n",
       " 77: 'U St',\n",
       " 78: 'Union Station',\n",
       " 79: 'Van Dorn St',\n",
       " 80: 'Van Ness-UDC',\n",
       " 81: 'Vienna',\n",
       " 82: 'Virginia Square-GMU',\n",
       " 83: 'Waterfront',\n",
       " 84: 'West Falls Church',\n",
       " 85: 'West Hyattsville',\n",
       " 86: 'Wheaton',\n",
       " 87: 'White Flint',\n",
       " 88: 'Wiehle-Reston',\n",
       " 89: 'Woodley Park'}"
      ]
     },
     "execution_count": 68,
     "metadata": {},
     "output_type": "execute_result"
    }
   ],
   "source": [
    "id2station"
   ]
  },
  {
   "cell_type": "code",
   "execution_count": 63,
   "metadata": {},
   "outputs": [],
   "source": [
    "custom_pos = id_pos.copy()"
   ]
  },
  {
   "cell_type": "code",
   "execution_count": 66,
   "metadata": {
    "scrolled": true
   },
   "outputs": [],
   "source": [
    "custom_pos.update({\n",
    "    # Blue Line: Benning -Largo\n",
    "    5:  [0.70, -0.30],\n",
    "    10: [0.75, -0.30],\n",
    "    51: [0.85, -0.30],\n",
    "    45: [0.90, -0.30],\n",
    "    0:  [0.80, -0.30],\n",
    "    # Orange Line: Minnesota Ave - New Carrolton\n",
    "    50: [0.66, -0.25],\n",
    "    19: [0.71, -0.20],\n",
    "    12: [0.76, -0.15],\n",
    "    44: [0.81, -0.10],\n",
    "    55: [0.86, -0.05] ,\n",
    "    # Blue/Silver/Orange: Federal Center - Stadium\n",
    "    71: [0.60, -0.30]\n",
    "    \n",
    "})"
   ]
  },
  {
   "cell_type": "code",
   "execution_count": 67,
   "metadata": {},
   "outputs": [
    {
     "data": {
      "image/png": "[encoded data removed]",
      "text/plain": [
       "<Figure size 1440x1080 with 1 Axes>"
      ]
     },
     "metadata": {},
     "output_type": "display_data"
    }
   ],
   "source": [
    "plt.figure(figsize=(20,15))\n",
    "\n",
    "nx.draw_networkx_nodes(G, custom_pos, node_color='grey', node_size=80)\n",
    "\n",
    "ax = plt.gca()\n",
    "\n",
    "for e in G.edges:\n",
    "    ax.annotate(\n",
    "        \"\",\n",
    "        xy=custom_pos[e[0]], \n",
    "        xycoords='data',\n",
    "        xytext=custom_pos[e[1]], \n",
    "        textcoords='data',\n",
    "        arrowprops=dict(\n",
    "            arrowstyle=\"-\", \n",
    "            color=nx.get_edge_attributes(G, 'color')[e],\n",
    "            linewidth = 3,\n",
    "            shrinkA = 5, \n",
    "            shrinkB = 5,\n",
    "            patchA = None, \n",
    "            patchB = None,\n",
    "            connectionstyle=\"arc3,rad=rrr\".replace('rrr',str(0.7*e[2])),\n",
    "        ),\n",
    "    )\n",
    "\n",
    "plt.axis('off')\n",
    "plt.show()\n"
   ]
  },
  {
   "cell_type": "markdown",
   "metadata": {},
   "source": [
    "## Semi-supervised Learning\n",
    "\n",
    "### Graph Convolutional Network"
   ]
  },
  {
   "cell_type": "code",
   "execution_count": 18,
   "metadata": {},
   "outputs": [
    {
     "data": {
      "text/plain": [
       "'0.6.1'"
      ]
     },
     "execution_count": 18,
     "metadata": {},
     "output_type": "execute_result"
    }
   ],
   "source": [
    "dgl.__version__"
   ]
  },
  {
   "cell_type": "code",
   "execution_count": 19,
   "metadata": {},
   "outputs": [],
   "source": [
    "def to_dgl(G):\n",
    "    g = dgl.DGLGraph()\n",
    "    g.add_nodes(len(G))\n",
    "    edge_list = [(u,v) for u,v in nx.edges(G)]\n",
    "    src, dst = tuple(zip(*edge_list))\n",
    "    g.add_edges(src, dst)\n",
    "    g.add_edges(dst, src)\n",
    "    return g\n",
    "\n",
    "\n",
    "\n",
    "# You can revert this convertion with the `to_networkx` function.\n",
    "# G = g.to_networkx().to_undirected()"
   ]
  },
  {
   "cell_type": "code",
   "execution_count": 20,
   "metadata": {},
   "outputs": [
    {
     "name": "stderr",
     "output_type": "stream",
     "text": [
      "c:\\users\\vince\\appdata\\local\\programs\\python\\python39\\lib\\site-packages\\dgl\\base.py:45: DGLWarning: Recommend creating graphs by `dgl.graph(data)` instead of `dgl.DGLGraph(data)`.\n",
      "  return warnings.warn(message, category=category, stacklevel=1)\n"
     ]
    }
   ],
   "source": [
    "g = to_dgl(G)"
   ]
  },
  {
   "cell_type": "code",
   "execution_count": 21,
   "metadata": {},
   "outputs": [],
   "source": [
    "onehot_features = torch.eye(len(G))\n",
    "g.ndata['feat'] = onehot_features"
   ]
  },
  {
   "cell_type": "code",
   "execution_count": 22,
   "metadata": {},
   "outputs": [],
   "source": [
    "# Define the message & reduce function\n",
    "def gcn_message(edges):\n",
    "    # The argument is a batch of edges.\n",
    "    # This computes a (batch of) message called 'msg' using the source node's feature 'h'.\n",
    "    return {'msg' : edges.src['h']}\n",
    "\n",
    "def gcn_reduce(nodes):\n",
    "    # The argument is a batch of nodes.\n",
    "    # This computes the new 'h' features by summing received 'msg' in each node's mailbox.\n",
    "    return {'h' : torch.sum(nodes.mailbox['msg'], dim=1)}\n",
    "\n",
    "# Define the GCNLayer module\n",
    "class GCNLayer(nn.Module):\n",
    "    def __init__(self, in_feats, out_feats):\n",
    "        super(GCNLayer, self).__init__()\n",
    "        self.linear = nn.Linear(in_feats, out_feats)\n",
    "\n",
    "    def forward(self, g, inputs):\n",
    "        # g is the graph and the inputs is the input node features\n",
    "        # first set the node features\n",
    "        g.ndata['h'] = inputs\n",
    "        # trigger message passing on all edges\n",
    "        g.update_all(gcn_message, gcn_reduce)\n",
    "        # get the result node features\n",
    "        h = g.ndata.pop('h')\n",
    "        # perform linear transformation\n",
    "        return self.linear(h)\n",
    "    \n",
    "# Define a 2-layer GCN model\n",
    "class BasicGCN(nn.Module):\n",
    "    def __init__(self, in_feats, hidden_size, num_classes):\n",
    "        super(BasicGCN, self).__init__()\n",
    "        self.gcn1 = GCNLayer(in_feats, hidden_size)\n",
    "        self.gcn2 = GCNLayer(hidden_size, num_classes)\n",
    "\n",
    "    def forward(self, g, inputs):\n",
    "        h = self.gcn1(g, inputs)\n",
    "        h = torch.relu(h)\n",
    "        h = self.gcn2(g, h)\n",
    "        return h"
   ]
  },
  {
   "cell_type": "markdown",
   "metadata": {},
   "source": [
    "Now we consider correct labels corresponding to nodes, a.k.a. **supervisers** or **labels**, which "
   ]
  },
  {
   "cell_type": "code",
   "execution_count": 23,
   "metadata": {
    "scrolled": true
   },
   "outputs": [],
   "source": [
    "unique_colors = pd.unique(list(nx.get_edge_attributes(G, 'color').values()))"
   ]
  },
  {
   "cell_type": "markdown",
   "metadata": {},
   "source": [
    "A representative node for each color as follows:\n",
    "\n",
    "- red: `36, 65`\n",
    "- silver: `46, 88`\n",
    "- orange: `55, 81`\n",
    "- blue: `3, 32`\n",
    "- yellow: `24, 40`\n",
    "- green: `8, 83`\n"
   ]
  },
  {
   "cell_type": "code",
   "execution_count": 24,
   "metadata": {},
   "outputs": [
    {
     "data": {
      "text/plain": [
       "array(['silver', 'blue', 'green', 'yellow', 'orange', 'red'], dtype=object)"
      ]
     },
     "execution_count": 24,
     "metadata": {},
     "output_type": "execute_result"
    }
   ],
   "source": [
    "unique_colors"
   ]
  },
  {
   "cell_type": "code",
   "execution_count": 25,
   "metadata": {},
   "outputs": [
    {
     "name": "stderr",
     "output_type": "stream",
     "text": [
      "100% (100 of 100) |######################| Elapsed Time: 0:00:02 Time:  0:00:02\n"
     ]
    }
   ],
   "source": [
    "# The first layer transforms input features of size of #nodes to a hidden size of 10.\n",
    "# The second layer transforms the hidden layer and produces output features of\n",
    "# size , corresponding to the six colors of the representative nodes.\n",
    "random.seed(2021)\n",
    "\n",
    "net = BasicGCN(g.number_of_nodes(), 10, 6)\n",
    "\n",
    "inputs = torch.eye(g.number_of_nodes())\n",
    "labeled_nodes = torch.tensor([36, 65, \n",
    "                              46, 88, \n",
    "                              55, 81, \n",
    "                              3, 32, \n",
    "                              24, 40, \n",
    "                              8, 83]) \n",
    "labels = torch.tensor([5,5,\n",
    "                       0,0,\n",
    "                       4,4,\n",
    "                       1,1,\n",
    "                       3,3,\n",
    "                       2,2]) \n",
    "\n",
    "# Options for learning\n",
    "optimizer = torch.optim.Adam(net.parameters(), lr=0.01)\n",
    "n_epochs = 100\n",
    "\n",
    "all_logits = []\n",
    "losses = []\n",
    "\n",
    "for epoch in progressbar(range(n_epochs)):\n",
    "    logits = net(g, inputs)\n",
    "    # we save the logits for visualization later\n",
    "    all_logits.append(logits.detach())\n",
    "    logp = F.log_softmax(logits, 1)\n",
    "    # we only compute loss for labeled nodes\n",
    "    loss = F.nll_loss(logp[labeled_nodes], labels)\n",
    "    losses.append(loss.item())\n",
    "\n",
    "    optimizer.zero_grad()\n",
    "    loss.backward()\n",
    "    optimizer.step()"
   ]
  },
  {
   "cell_type": "code",
   "execution_count": 26,
   "metadata": {},
   "outputs": [],
   "source": [
    "## Assign final prediction \n",
    "predictions = [unique_colors[x] for x in all_logits[-1].argmax(axis=-1)]"
   ]
  },
  {
   "cell_type": "code",
   "execution_count": 27,
   "metadata": {},
   "outputs": [],
   "source": [
    "## Obtain list of predictions from first 40 epochs\n",
    "node_predictions = {}\n",
    "\n",
    "for key in id2station:\n",
    "    node_predictions[key] = [\n",
    "        [unique_colors[x] for x in all_logits[0].argmax(axis=-1)][key],\n",
    "        [unique_colors[x] for x in all_logits[2].argmax(axis=-1)][key],\n",
    "        [unique_colors[x] for x in all_logits[4].argmax(axis=-1)][key],\n",
    "        [unique_colors[x] for x in all_logits[6].argmax(axis=-1)][key],\n",
    "        [unique_colors[x] for x in all_logits[8].argmax(axis=-1)][key],\n",
    "        [unique_colors[x] for x in all_logits[10].argmax(axis=-1)][key],\n",
    "        [unique_colors[x] for x in all_logits[12].argmax(axis=-1)][key],\n",
    "        [unique_colors[x] for x in all_logits[14].argmax(axis=-1)][key],\n",
    "        [unique_colors[x] for x in all_logits[16].argmax(axis=-1)][key],\n",
    "        [unique_colors[x] for x in all_logits[18].argmax(axis=-1)][key],\n",
    "        [unique_colors[x] for x in all_logits[20].argmax(axis=-1)][key],\n",
    "        [unique_colors[x] for x in all_logits[22].argmax(axis=-1)][key],\n",
    "        [unique_colors[x] for x in all_logits[24].argmax(axis=-1)][key],\n",
    "        [unique_colors[x] for x in all_logits[26].argmax(axis=-1)][key],\n",
    "        [unique_colors[x] for x in all_logits[28].argmax(axis=-1)][key],\n",
    "        [unique_colors[x] for x in all_logits[30].argmax(axis=-1)][key],\n",
    "        [unique_colors[x] for x in all_logits[32].argmax(axis=-1)][key],\n",
    "        [unique_colors[x] for x in all_logits[34].argmax(axis=-1)][key],\n",
    "        [unique_colors[x] for x in all_logits[36].argmax(axis=-1)][key],\n",
    "        [unique_colors[x] for x in all_logits[38].argmax(axis=-1)][key],\n",
    "        [unique_colors[x] for x in all_logits[40].argmax(axis=-1)][key],\n",
    "        [unique_colors[x] for x in all_logits[-1].argmax(axis=-1)][key]\n",
    "    ]"
   ]
  },
  {
   "cell_type": "code",
   "execution_count": 28,
   "metadata": {},
   "outputs": [],
   "source": [
    "## Add predictions to graph JSON\n",
    "for i in range(0, len(dc_metro_graph['nodes'])):\n",
    "    dc_metro_graph['nodes'][i]['predictions'] = node_predictions[i]"
   ]
  },
  {
   "cell_type": "code",
   "execution_count": 30,
   "metadata": {},
   "outputs": [],
   "source": [
    "## Export JSON data for D3 visualization\n",
    "with open('../data/processed/dc_metro_graph_predictions.json', 'w') as f:\n",
    "    json.dump(dc_metro_graph, f)"
   ]
  },
  {
   "cell_type": "code",
   "execution_count": 31,
   "metadata": {},
   "outputs": [],
   "source": [
    "def plot_loss(losses, n_epochs, **kwargs):\n",
    "    fig, ax = plt.subplots(**kwargs)\n",
    "    ax.plot(range(n_epochs), losses)\n",
    "    fig.set_facecolor('white')\n",
    "    ax.set_xlabel(\"Epochs\")\n",
    "    ax.set_ylabel(\"Loss\")\n",
    "    ax.set_title(\"\")\n",
    "    plt.show()"
   ]
  },
  {
   "cell_type": "code",
   "execution_count": 32,
   "metadata": {},
   "outputs": [
    {
     "data": {
      "image/png": "[encoded data removed]",
      "text/plain": [
       "<Figure size 432x288 with 1 Axes>"
      ]
     },
     "metadata": {},
     "output_type": "display_data"
    }
   ],
   "source": [
    "plot_loss(losses, n_epochs)"
   ]
  },
  {
   "cell_type": "code",
   "execution_count": 33,
   "metadata": {
    "scrolled": true
   },
   "outputs": [
    {
     "data": {
      "text/plain": [
       "<Figure size 432x288 with 0 Axes>"
      ]
     },
     "metadata": {},
     "output_type": "display_data"
    }
   ],
   "source": [
    "plt.savefig('../_graphics/plot_loss.png')"
   ]
  },
  {
   "cell_type": "code",
   "execution_count": 47,
   "metadata": {},
   "outputs": [],
   "source": [
    "## Export losses data for visualization in D3.js\n",
    "df_losses = pd.DataFrame(\n",
    "    losses,\n",
    "    columns = ['losses'])\\\n",
    "    .reset_index()\\\n",
    "    .rename(columns={'index':'n_epochs'})\n",
    "\n",
    "df_losses.to_csv('../data/processed/losses.csv')"
   ]
  },
  {
   "cell_type": "code",
   "execution_count": 35,
   "metadata": {},
   "outputs": [
    {
     "data": {
      "image/png": "[encoded data removed]",
      "text/plain": [
       "<Figure size 1152x864 with 1 Axes>"
      ]
     },
     "metadata": {},
     "output_type": "display_data"
    }
   ],
   "source": [
    "def plot_predictions(id_pos, predictions):\n",
    "    plt.figure(figsize=(16,12))\n",
    "\n",
    "    nx.draw_networkx_nodes(G, id_pos, node_color=predictions, alpha=0.5, node_size=300)\n",
    "\n",
    "    ax = plt.gca()\n",
    "    \n",
    "    for e in G.edges:\n",
    "        ax.annotate(\n",
    "            \"\",\n",
    "            xy=id_pos[e[0]], \n",
    "            xycoords='data',\n",
    "            xytext=id_pos[e[1]], \n",
    "            textcoords='data',\n",
    "            arrowprops=dict(\n",
    "                arrowstyle=\"-\", \n",
    "                color='black',\n",
    "                linewidth = 3,\n",
    "                shrinkA = 5, \n",
    "                shrinkB = 5,\n",
    "                patchA = None, \n",
    "                patchB = None,\n",
    "                connectionstyle=\"arc3,rad=rrr\".replace('rrr',str(0.7*e[2])),\n",
    "            ),\n",
    "        )\n",
    "\n",
    "    plt.axis(\"off\")\n",
    "    plt.show()\n",
    "\n",
    "plot_predictions(id_pos, predictions)"
   ]
  },
  {
   "cell_type": "markdown",
   "metadata": {},
   "source": [
    "## Define a more sophisticated GCN model.\n",
    "\n",
    "Following code has depreciated"
   ]
  },
  {
   "cell_type": "code",
   "execution_count": 50,
   "metadata": {},
   "outputs": [],
   "source": [
    "import torch\n",
    "import torch.nn as nn\n",
    "from dgl.nn.pytorch import GraphConv\n",
    "\n",
    "class GCN(nn.Module):\n",
    "    def __init__(self,\n",
    "                 g,\n",
    "                 in_feats,\n",
    "                 n_hidden,\n",
    "                 n_classes,\n",
    "                 n_layers,\n",
    "                 activation,\n",
    "                 dropout):\n",
    "        super(GCN, self).__init__()\n",
    "        self.g = g\n",
    "        self.dropout = nn.Dropout(p=dropout)\n",
    "        \n",
    "        self.layers = nn.ModuleList()\n",
    "        # input layer\n",
    "        self.layers.append(GraphConv(in_feats, n_hidden, activation=activation))\n",
    "        # hidden layers\n",
    "        for i in range(n_layers - 1):\n",
    "            self.layers.append(GraphConv(n_hidden, n_hidden, activation=activation))\n",
    "        # output layer\n",
    "        self.layers.append(GraphConv(n_hidden, n_classes))\n",
    "\n",
    "    def forward(self, features):\n",
    "        h = features\n",
    "        for i, layer in enumerate(self.layers):\n",
    "            if i != 0:\n",
    "                h = self.dropout(h)\n",
    "            h = layer(self.g, h)\n",
    "        # output logits\n",
    "        return h"
   ]
  },
  {
   "cell_type": "code",
   "execution_count": 51,
   "metadata": {},
   "outputs": [
    {
     "ename": "TypeError",
     "evalue": "object of type 'HeteroNodeView' has no len()",
     "output_type": "error",
     "traceback": [
      "\u001b[1;31m---------------------------------------------------------------------------\u001b[0m",
      "\u001b[1;31mTypeError\u001b[0m                                 Traceback (most recent call last)",
      "\u001b[1;32m~\\AppData\\Local\\Temp/ipykernel_13584/2835462940.py\u001b[0m in \u001b[0;36m<module>\u001b[1;34m\u001b[0m\n\u001b[0;32m     19\u001b[0m \u001b[1;33m\u001b[0m\u001b[0m\n\u001b[0;32m     20\u001b[0m \u001b[1;31m# feature and target class\u001b[0m\u001b[1;33m\u001b[0m\u001b[1;33m\u001b[0m\u001b[0m\n\u001b[1;32m---> 21\u001b[1;33m \u001b[0mfeatures\u001b[0m  \u001b[1;33m=\u001b[0m \u001b[0mtorch\u001b[0m\u001b[1;33m.\u001b[0m\u001b[0meye\u001b[0m\u001b[1;33m(\u001b[0m\u001b[0mlen\u001b[0m\u001b[1;33m(\u001b[0m\u001b[0mg\u001b[0m\u001b[1;33m.\u001b[0m\u001b[0mnodes\u001b[0m\u001b[1;33m)\u001b[0m\u001b[1;33m)\u001b[0m\u001b[1;33m\u001b[0m\u001b[1;33m\u001b[0m\u001b[0m\n\u001b[0m\u001b[0;32m     22\u001b[0m \u001b[0min_feats\u001b[0m \u001b[1;33m=\u001b[0m \u001b[0mfeatures\u001b[0m\u001b[1;33m.\u001b[0m\u001b[0mshape\u001b[0m\u001b[1;33m[\u001b[0m\u001b[1;36m1\u001b[0m\u001b[1;33m]\u001b[0m\u001b[1;33m\u001b[0m\u001b[1;33m\u001b[0m\u001b[0m\n\u001b[0;32m     23\u001b[0m \u001b[0mn_classes\u001b[0m \u001b[1;33m=\u001b[0m \u001b[0mlen\u001b[0m\u001b[1;33m(\u001b[0m\u001b[0munique_colors\u001b[0m\u001b[1;33m)\u001b[0m\u001b[1;33m\u001b[0m\u001b[1;33m\u001b[0m\u001b[0m\n",
      "\u001b[1;31mTypeError\u001b[0m: object of type 'HeteroNodeView' has no len()"
     ]
    }
   ],
   "source": [
    "# cuda option\n",
    "cuda = False\n",
    "\n",
    "# normalization term\n",
    "degs = g.in_degrees().float()\n",
    "norm = torch.pow(degs, -0.5)\n",
    "norm[torch.isinf(norm)] = 0\n",
    "if cuda:\n",
    "    norm = norm.cuda()\n",
    "g.ndata['norm'] = norm.unsqueeze(1)\n",
    "\n",
    "# hyper parameters\n",
    "n_epochs = 100\n",
    "n_layers = 3\n",
    "n_hidden = 16\n",
    "dropout = 0.3\n",
    "weight_decay = 5e-4\n",
    "lr=0.01\n",
    "\n",
    "# feature and target class\n",
    "features  = torch.eye(len(g.nodes))\n",
    "in_feats = features.shape[1]\n",
    "n_classes = len(unique_colors)\n",
    "\n",
    "# supervise data\n",
    "\n",
    "labeled_nodes = torch.tensor([\n",
    "    36, 65, \n",
    "    46, 88, \n",
    "    55, 81, \n",
    "    3, 32, \n",
    "    24, 40, \n",
    "    8, 83])\n",
    "\n",
    "labels = torch.tensor([\n",
    "    5,5,\n",
    "    0,0,\n",
    "    4,4,\n",
    "    1,1,\n",
    "    3,3,\n",
    "    2,2]) \n",
    "\n",
    "model = GCN(g,\n",
    "            in_feats,\n",
    "            n_hidden,\n",
    "            n_classes,\n",
    "            n_layers,\n",
    "            F.relu,\n",
    "            dropout)\n",
    "optimizer = torch.optim.Adam(model.parameters(), lr=lr, weight_decay=weight_decay)\n",
    "\n",
    "all_logits = []\n",
    "losses = []\n",
    "\n",
    "n_epochs = 200\n",
    "for epoch in progressbar(range(n_epochs)):\n",
    "    model.train()\n",
    "    logits = model(features)\n",
    "#     all_logits.append(logits.detach())\n",
    "\n",
    "    logp = F.log_softmax(logits, 1)\n",
    "    loss = F.nll_loss(logp[labeled_nodes], labels)\n",
    "    losses.append(loss.item())\n",
    "\n",
    "    optimizer.zero_grad()\n",
    "    loss.backward()\n",
    "    optimizer.step()"
   ]
  },
  {
   "cell_type": "code",
   "execution_count": null,
   "metadata": {},
   "outputs": [],
   "source": [
    "plot_loss(losses, n_epochs)"
   ]
  },
  {
   "cell_type": "code",
   "execution_count": null,
   "metadata": {},
   "outputs": [],
   "source": [
    "predictions = [unique_colors[x] for x in logits.argmax(axis=-1)]\n",
    "plot_predictions(pos, predictions)"
   ]
  },
  {
   "cell_type": "markdown",
   "metadata": {},
   "source": [
    "More advanced GCN"
   ]
  },
  {
   "cell_type": "code",
   "execution_count": 52,
   "metadata": {},
   "outputs": [
    {
     "ename": "NameError",
     "evalue": "name 'in_feats' is not defined",
     "output_type": "error",
     "traceback": [
      "\u001b[1;31m---------------------------------------------------------------------------\u001b[0m",
      "\u001b[1;31mNameError\u001b[0m                                 Traceback (most recent call last)",
      "\u001b[1;32m~\\AppData\\Local\\Temp/ipykernel_13584/1238300460.py\u001b[0m in \u001b[0;36m<module>\u001b[1;34m\u001b[0m\n\u001b[0;32m     65\u001b[0m \u001b[1;33m\u001b[0m\u001b[0m\n\u001b[0;32m     66\u001b[0m model = AdvancedGCN(g,\n\u001b[1;32m---> 67\u001b[1;33m                     \u001b[0min_feats\u001b[0m\u001b[1;33m,\u001b[0m\u001b[1;33m\u001b[0m\u001b[1;33m\u001b[0m\u001b[0m\n\u001b[0m\u001b[0;32m     68\u001b[0m                     \u001b[0mn_hidden_gcn\u001b[0m\u001b[1;33m=\u001b[0m\u001b[1;33m[\u001b[0m\u001b[1;36m16\u001b[0m\u001b[1;33m,\u001b[0m \u001b[1;36m16\u001b[0m\u001b[1;33m]\u001b[0m\u001b[1;33m,\u001b[0m\u001b[1;33m\u001b[0m\u001b[1;33m\u001b[0m\u001b[0m\n\u001b[0;32m     69\u001b[0m                     \u001b[0mn_hidden_mlp\u001b[0m\u001b[1;33m=\u001b[0m\u001b[1;33m[\u001b[0m\u001b[1;36m8\u001b[0m\u001b[1;33m]\u001b[0m\u001b[1;33m,\u001b[0m\u001b[1;33m\u001b[0m\u001b[1;33m\u001b[0m\u001b[0m\n",
      "\u001b[1;31mNameError\u001b[0m: name 'in_feats' is not defined"
     ]
    }
   ],
   "source": [
    "import torch\n",
    "import torch.nn as nn\n",
    "import torch.nn.functional as F\n",
    "from dgl.nn.pytorch import GraphConv\n",
    "from dgl.nn.pytorch import SumPooling, MaxPooling\n",
    "\n",
    "# https://github.com/pengchenghu428/GraphTools/blob/master/experiment/pytorch/gcn.py\n",
    "class AdvancedGCN(nn.Module):\n",
    "    def __init__(self,\n",
    "                 g,\n",
    "                 in_feats,\n",
    "                 n_output=2,\n",
    "                 n_hidden_gcn=[256, 256, 256],\n",
    "                 n_hidden_mlp=[32],\n",
    "                 n_dense_hidden=128,\n",
    "                 activation=F.leaky_relu,\n",
    "                 dropout=0.2):\n",
    "        super(AdvancedGCN, self).__init__()\n",
    "        self.dropout = nn.Dropout(p=dropout)\n",
    "        self.activation = activation\n",
    "        self.n_dense_hidden = n_dense_hidden\n",
    "        self.n_hidden_gcn = n_hidden_gcn\n",
    "        self.g = g\n",
    "        \n",
    "        # GCN layer\n",
    "        self.gcn_layers = nn.ModuleList()\n",
    "        self.gcn_layers.append(GraphConv(in_feats, n_hidden_gcn[0], activation=activation))\n",
    "        for i in range(len(n_hidden_gcn)-1):\n",
    "            self.gcn_layers.append(GraphConv(n_hidden_gcn[i], n_hidden_gcn[i+1], activation=activation))\n",
    "        \n",
    "        # MLP layer\n",
    "        n_hidden_mlp.append(n_output)\n",
    "        self.mlp_layers = nn.ModuleList()\n",
    "        self.mlp_layers.append(nn.Linear(n_hidden_gcn[-1], n_hidden_mlp[0]))\n",
    "        for i in range(len(n_hidden_mlp)-1):\n",
    "            self.mlp_layers.append(nn.Linear(n_hidden_mlp[i], n_hidden_mlp[i+1]))\n",
    "\n",
    "    def forward(self, features):\n",
    "        self.h = []\n",
    "        h = features\n",
    "        \n",
    "        # GCN\n",
    "        for i, gcn_layer in enumerate(self.gcn_layers):\n",
    "            if i != 0:\n",
    "                h = self.dropout(h)\n",
    "            h = gcn_layer(self.g, h)\n",
    "            self.h.append(h)\n",
    "            \n",
    "        # MLP\n",
    "        for i, mlp_layer in enumerate(self.mlp_layers):\n",
    "            if i != 0:\n",
    "                h = self.dropout(h)\n",
    "            h = mlp_layer(h)\n",
    "            h = F.relu(h)\n",
    "            self.h.append(h)\n",
    "        \n",
    "        return h\n",
    "    \n",
    "    def _get_flatten_size(self, x):\n",
    "        size = x.size()[1:]\n",
    "        num_features = 1\n",
    "        for s in size:\n",
    "            num_features *= s\n",
    "        return num_features\n",
    "\n",
    "model = AdvancedGCN(g,\n",
    "                    in_feats,\n",
    "                    n_hidden_gcn=[16, 16],\n",
    "                    n_hidden_mlp=[8],\n",
    "                    n_output=n_classes,\n",
    "                    dropout=0.2)\n",
    "optimizer = torch.optim.Adam(model.parameters(), lr=lr, weight_decay=weight_decay)\n",
    "\n",
    "all_logits = []\n",
    "losses = []\n",
    "\n",
    "n_epochs = 100\n",
    "for epoch in progressbar(range(n_epochs)):\n",
    "    model.train()\n",
    "    logits = model(features)\n",
    "    \n",
    "    logp = F.log_softmax(logits, 1)\n",
    "    loss = F.nll_loss(logp[labeled_nodes], labels)\n",
    "    losses.append(loss.item())\n",
    "\n",
    "    optimizer.zero_grad()\n",
    "    loss.backward()\n",
    "    optimizer.step()"
   ]
  },
  {
   "cell_type": "code",
   "execution_count": null,
   "metadata": {},
   "outputs": [],
   "source": [
    "plot_loss(losses, n_epochs)"
   ]
  },
  {
   "cell_type": "code",
   "execution_count": null,
   "metadata": {},
   "outputs": [],
   "source": [
    "predictions = [unique_colors[x] for x in logits.argmax(axis=-1)]\n",
    "plot_predictions(pos, predictions)"
   ]
  },
  {
   "cell_type": "code",
   "execution_count": null,
   "metadata": {},
   "outputs": [],
   "source": [
    "for h in model.h:\n",
    "    print(h.shape)"
   ]
  },
  {
   "cell_type": "code",
   "execution_count": null,
   "metadata": {},
   "outputs": [],
   "source": [
    "for i, h in enumerate(model.h):\n",
    "    if h.shape[1] == 2:\n",
    "        embed_pos = {i: [node[0], node[1]] for i, node in enumerate(h.detach())}\n",
    "        plot_predictions(embed_pos, predictions)\n",
    "        break"
   ]
  },
  {
   "cell_type": "code",
   "execution_count": null,
   "metadata": {},
   "outputs": [],
   "source": [
    "from sklearn.manifold import TSNE\n",
    "\n",
    "embedded = TSNE(n_components=2).fit_transform(model.h[-1].detach())\n",
    "embed_pos = {i: [node[0], node[1]] for i, node in enumerate(embedded)}\n",
    "plot_predictions(embed_pos, predictions)"
   ]
  },
  {
   "cell_type": "code",
   "execution_count": null,
   "metadata": {},
   "outputs": [],
   "source": []
  }
 ],
 "metadata": {
  "kernelspec": {
   "display_name": "Python 3 (ipykernel)",
   "language": "python",
   "name": "python3"
  },
  "language_info": {
   "codemirror_mode": {
    "name": "ipython",
    "version": 3
   },
   "file_extension": ".py",
   "mimetype": "text/x-python",
   "name": "python",
   "nbconvert_exporter": "python",
   "pygments_lexer": "ipython3",
   "version": "3.9.7"
  }
 },
 "nbformat": 4,
 "nbformat_minor": 1
}
